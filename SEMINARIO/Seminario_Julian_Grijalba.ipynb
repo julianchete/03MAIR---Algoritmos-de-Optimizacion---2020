{
  "nbformat": 4,
  "nbformat_minor": 0,
  "metadata": {
    "colab": {
      "name": "Seminario-Julian_Grijalba.ipynb",
      "version": "0.3.2",
      "provenance": [],
      "collapsed_sections": [],
      "include_colab_link": true
    },
    "kernelspec": {
      "name": "python3",
      "display_name": "Python 3"
    }
  },
  "cells": [
    {
      "cell_type": "markdown",
      "metadata": {
        "id": "view-in-github",
        "colab_type": "text"
      },
      "source": [
        "<a href=\"https://colab.research.google.com/github/julianchete/03MAIR---Algoritmos-de-Optimizacion---2020/blob/master/SEMINARIO/Seminario_Julian_Grijalba.ipynb\" target=\"_parent\"><img src=\"https://colab.research.google.com/assets/colab-badge.svg\" alt=\"Open In Colab\"/></a>"
      ]
    },
    {
      "metadata": {
        "id": "hVbXYX-RfPWh",
        "colab_type": "text"
      },
      "cell_type": "markdown",
      "source": [
        "# Algoritmos de optimización - Seminario<br>\n",
        "Nombre y Apellidos:  Julian Eduardo Grijalba Facundo  <br>\n",
        "Url: https://github.com/julianchete/03MAIR---Algoritmos-de-optimizacion---2019/tree/master/SEMINARIO<br>\n",
        "Problema:\n",
        "> 1. Elección de grupos de población homogéneos <br>\n",
        ">2. Organizar los horarios de partidos de La Liga<br>\n",
        ">3. Combinar cifras y operaciones\n",
        "\n",
        "Descripción del problema:(copiar enunciado)\n",
        "\n",
        "**1. Elección de grupos de población homogenea:** <br>\n",
        "Una productora ganadera nos encarga la tarea de seleccionar grupos de terneros para aplicar 3 tratamientos diferentes. Para cada uno de los tratamientos debemos seleccionar 3 grupos de terneros que sean lo mas \n",
        "homogéneos posible en peso para que en los resultados del tratamiento influya lo menos posible el peso del animal. <br>\n",
        "- Disponemos de una población de N animales entre machos y hembras <br>\n",
        "Se solicita diseñar un algoritmo para conseguir una agrupación que cumpla de la  mejor manera posible las especificaciones de la productora.  Nos dan una tabla con el ID del animal, su peso y genero (H/M)  <br>\n",
        "1. Aun se desconocen los datos concretos de los animales por lo que debemos trabajar con datos que debemos generar de forma aleatoria. <br>\n",
        "2. Hemos podido averigua que el peso medio del ternero es 37kg con una desviación estándar de 2.1 \n",
        "\n",
        "\n",
        "(*) La respuesta es obligatoria\n",
        "\n",
        "\n",
        "\n",
        "\n",
        "\n",
        "                                        "
      ]
    },
    {
      "metadata": {
        "id": "3_-exlrTgLd-",
        "colab_type": "text"
      },
      "cell_type": "markdown",
      "source": [
        "(*)¿Cuantas posibilidades hay sin tener en cuenta las restricciones?<br>\n",
        "\n",
        "\n",
        "\n",
        "¿Cuantas posibilidades hay teniendo en cuenta todas las restricciones.<br>\n",
        "\n",
        "\n"
      ]
    },
    {
      "metadata": {
        "id": "WfCUqJyKhPcw",
        "colab_type": "text"
      },
      "cell_type": "markdown",
      "source": [
        "### Sin restricciones\n",
        "\n",
        "Para calcular el número de posibildiades basicamente se tiene que saber contar y agrupar la información en los N tratamiento, en donde cada uno de estos tiene a su vez N sub-grupos de control.<br>\n",
        "Comenzamos con un enfoque de que vamos a tener N individuos vacunos. Cada uno de estos tiene como caracteristica tres datos esenciales : Su identificadro, peso y genero (H/M).<br>\n",
        "Lo pasos siguientes serian :\n",
        "\n",
        "1.   **Grupos de tratamiento:** Se realiza la agrupación primero de tres grupos de forma aleatoria, lo cual tendria una complejidad de o(n/N) x N  = **O(n)** .\n",
        "2.   **Subgrupos de control :** Se realiza la sub-agrupación de los tratamiento generados en la anterior etapa, en 3 de control, lo cual es  o(n/N) x N  = **O(n)**\n",
        "\n",
        "Con este enfoque se lograria la distribución de los vacunos , que cumplan con los estadares de peso para ser tratados en los diferentes enfoques que se desean realizar. \n",
        "\n",
        "### Con restricciones\n",
        "\n",
        "Para calcular el número de posibildiades basicamente se tiene que saber contar y agrupar la información en los tres tratamiento, en donde cada uno de estos tiene a su vez tres sub-grupos de control.<br>\n",
        "Comenzamos con un enfoque de que vamos a tener N individuos vacunos. Cada uno de estos tiene como caracteristica tres datos esenciales : Su identificadro, peso y genero (H/M).<br>\n",
        "Lo pasos siguientes serian :\n",
        "\n",
        "1.   **Descartar outliers :** Se tiene como base que el peso promedio es 37 con una desviación de 2.1, por tal motivo se filtra todo lo que este por fuera de este rango de confianza. Esto al ser un recorrido total  es **O(n)**\n",
        "2.   **Grupos de tratamiento:** Se realiza la agrupación primero de tres grupos de forma aleatoria, lo cual tendria una complejidad de o(n/3) x 3  = **O(n)** .\n",
        "3.   **Subgrupos de control :** Se realiza la sub-agrupación de los tratamiento generados en la anterior etapa, en 3 de control, lo cual es  o(n/9) x 9  = **O(n)**\n",
        "\n",
        "Con este enfoque se lograria la distribución de los vacunos , que cumplan con los estadares de peso para ser tratados en los diferentes enfoques que se desean realizar. "
      ]
    },
    {
      "metadata": {
        "id": "dzynfVJahHoY",
        "colab_type": "text"
      },
      "cell_type": "markdown",
      "source": [
        "Modelo para el espacio de soluciones<br>\n",
        "(*) ¿Cual es la estructura de datos que mejor se adapta al problema? Argumentalo.(Es posible que hayas elegido una al principio y veas la necesidad de cambiar, arguentalo)*"
      ]
    },
    {
      "metadata": {
        "id": "xFIJrOwKi2Ti",
        "colab_type": "text"
      },
      "cell_type": "markdown",
      "source": [
        "## Estructura de datos\n",
        "Un dataframe  es la más propensa a realizar esta actividad, ya que permite por medio de sus indices realizar la segmentación de forma  sencilla, permite encontrar la distribución de los valores sin necesidad de  invertir tiempo en codificación , y facilita el uso de librerias adicionales que puedan mejorar los tiempos de respuesta para la segmentación, como tambien implementar nuevas funciones en un futuro  para este tipo de problemas. Un ejemplo de esto , es si se quisiera integrar un tipo de orden especifico en los requerimeintos de la solución, dataframe ya tiene implementado algoritmos de ordenamiento como son ‘quicksort’, ‘mergesort’, ‘heapsort.\n",
        "En el inicio de la actividad se planteo realizarlo por listas o por matrices, sin embargo en el momento en que se avanzaba en la actividad y derivado a las funciones anterior descrita y a la facilidad de integración con nuevas librerias, se prefirio la estructuda de datos seleccionado. \n"
      ]
    },
    {
      "metadata": {
        "id": "7Z9U2W7bi-XS",
        "colab_type": "text"
      },
      "cell_type": "markdown",
      "source": [
        "Según el modelo para el espacio de soluciones<br>\n",
        "(*)¿Cual es la función objetivo?\n",
        "\n",
        "(*)¿Es un problema de maximización o minimización?"
      ]
    },
    {
      "metadata": {
        "id": "hBalWLM7j1_d",
        "colab_type": "text"
      },
      "cell_type": "markdown",
      "source": [
        "**Respuesta**\n",
        "## Función objetivo\n",
        " Una función objetivo expresa el objetivo principal del modelo que se debe minimizar o maximizar. Para el caso de este ejercicio es la maximización de individuos que peudan ser parte del estudio , con el cual garanticen el exito del tratamiento, es por ello que se definen no solo con un objetivo de A/B Testing, sino con A/B/C testing, asegurando de esta forma unos subgrupos de control por cada tratamiento especifico a ser implementado, como tambien para medir el exito del mismo\n",
        " \n",
        " ## Maximización\n",
        " Es un problema de maximización como se describe en su función objetivo, ya que esta buscando el mayor número de individuos que puedan ser agrupados en N conjuntos (por restricción del ejercicio es 3), los cuales se deben objetener al menos tres subconjuntos (por restricciones del ejercicio) con el fin de garantizar la medición correcta de los tratamientos"
      ]
    },
    {
      "metadata": {
        "id": "rlnTYgY1j6I2",
        "colab_type": "text"
      },
      "cell_type": "markdown",
      "source": [
        "Diseña un algoritmo para resolver el problema por fuerza bruta"
      ]
    },
    {
      "metadata": {
        "id": "70rDgxYXkC8r",
        "colab_type": "text"
      },
      "cell_type": "markdown",
      "source": [
        "Respuesta:\n",
        "## Fuerza Bruta"
      ]
    },
    {
      "metadata": {
        "id": "AiskKkzZfy4e",
        "colab_type": "code",
        "colab": {}
      },
      "cell_type": "code",
      "source": [
        "## Generar población de forma aleatoria \n",
        "import random\n",
        "import pandas as pd\n",
        "import numpy as np\n",
        "import math\n",
        "import seaborn as sns\n",
        "import matplotlib.pyplot as plt\n",
        "\n",
        "def generarMuestra(N):\n",
        "  # Genero un dataframe con la secuencia\n",
        "  datos = pd.DataFrame({ 'id' : range(1, N + 1 ,1)  for _ in range(N) })\n",
        "  # genero los valores aleatorios de Genero '\n",
        "  datos['id_genero'] = np.random.choice([0, 1], datos.shape[0])\n",
        "  # genero los valores aleatorios de Peso\n",
        "  datos['num_peso'] =  np.random.uniform(35, 40,size=N)\n",
        "  # se visualiza finalización\n",
        "  print (\"Se han genero la siguiente cantidad de muestras vacunas :\",N)\n",
        "  return datos\n",
        "\n",
        "def eliminarOutliers(dataframe):\n",
        " \n",
        "  media=37\n",
        "  desviacion=2.1\n",
        "  minimo = media - desviacion\n",
        "  maximo = media + desviacion\n",
        "  indice= (dataframe['num_peso'] >= minimo) & (dataframe['num_peso'] <= maximo)\n",
        "  total = sum(indice)\n",
        "  print (\"Se han eliminado \"+str(len(dataframe)-total)+\" outliers, la nueva cantidad de animales es de:\"+str(total))\n",
        "  return dataframe[indice]\n",
        "\n",
        "\n",
        "# El objetivo de esta funcion es generar n particiones de un dataframe sin repetir valores en las mismas \n",
        "def crearParticiones(dataframe, num_particiones):\n",
        "  # Se define el tamaño de la partición\n",
        "  tam_particiones = math.floor(len(dataframe)/num_particiones)\n",
        "  # Se definen los valores globales como la cantidad de registros\n",
        "  registros = dataframe.index.values\n",
        "  # se define el valor del retorno  y\n",
        "  resultado = list()\n",
        "  # Se itera por el numero de particiones definidas\n",
        "  for i in range(num_particiones):\n",
        "      # Se selecciona aleatoriamente el individuo\n",
        "      animales_seleccionados = np.random.choice(registros, tam_particiones, replace=False)\n",
        "      # Se obtiene los indices y se agregan a los valores de control\n",
        "      indice_valores = dataframe.loc[animales_seleccionados]\n",
        "      tratamiento = pd.DataFrame(indice_valores)\n",
        "      resultado.append(tratamiento)\n",
        "      registros = np.setdiff1d(registros, animales_seleccionados)\n",
        "\n",
        "  return resultado\n",
        "\n",
        "def generarGrupos(numero_datos):\n",
        "  # genero los datos\n",
        "  datos = generarMuestra(numero_datos)\n",
        "  # elimino los outliers\n",
        "  datos = eliminarOutliers (datos)\n",
        "  # Genero las tres particiones requeridas \n",
        "  tratamientos = crearParticiones(datos,3)\n",
        "\n",
        "  # defino los tratamientos\n",
        "  tam_tratamientos = math.floor(len(datos)/3)\n",
        "  tratamiento_1 = tratamientos[0]\n",
        "  tratamiento_2 = tratamientos[1]\n",
        "  tratamiento_3 = tratamientos[2]\n",
        "  print(\"Se crean los tres grupos de animales por tratamiento, con un tamaño de \"+str(tam_tratamientos)+\" animales\")\n",
        "\n",
        "  # A su vez genero una lista de agrupaciones para los tres grupos de control por tratamiento definido\n",
        "  # Cada listo contiene 3 dataframe con los grupos de control \n",
        "  grupo_control_trat1 = crearParticiones(tratamiento_1,3) \n",
        "  grupo_control_trat2 = crearParticiones(tratamiento_2,3) \n",
        "  grupo_control_trat3 = crearParticiones(tratamiento_3,3)\n",
        "  grupos_control = [grupo_control_trat1,grupo_control_trat2,grupo_control_trat3]\n",
        "  print(\"Se crean los tres sub-grupos de control para cada tratamiento aplicado, con un tamaño de \"+str(math.floor(tam_tratamientos/3))+\" animales\")\n",
        "  return tratamientos, grupos_control\n",
        "\n",
        "def graficarGrupos(dataframe):\n",
        "  print(\" Distribución de los animales por tratamiento\")\n",
        "  print(\" Genero 0 = Hembras,  1 = Machos\")\n",
        "  for i in dataframe:\n",
        "    g = sns.FacetGrid(i, col=\"id_genero\")\n",
        "    g.map(plt.hist, \"num_peso\")\n",
        "    g.set_axis_labels(\"Peso Animal\", \"No. Animales\")"
      ],
      "execution_count": 0,
      "outputs": []
    },
    {
      "metadata": {
        "id": "tgrnsC2nkFa8",
        "colab_type": "text"
      },
      "cell_type": "markdown",
      "source": [
        "Calcula la complejidad del algoritmo por fuerza bruta"
      ]
    },
    {
      "metadata": {
        "id": "9eUd3xwckP68",
        "colab_type": "text"
      },
      "cell_type": "markdown",
      "source": [
        "Respuesta\n",
        "## Calculo de complejidad\n",
        "Como se describe en el punto 1 , la complejidad del algoritmo es **O(3n)** debido a : \n",
        "\n",
        "1.   **Descartar outliers :** Se tiene como base que el peso promedio es 37 con una desviación de 2.1, por tal motivo se filtra todo lo que este por fuera de este rango de confianza. Esto al ser un recorrido total  es **O(n)**\n",
        "2.   **Grupos de tratamiento:** Se realiza la agrupación primero de tres grupos de forma aleatoria, lo cual tendria una complejidad de o(n/3) x 3  = **O(n)** .\n",
        "3.   **Subgrupos de control :** Se realiza la sub-agrupación de los tratamiento generados en la anterior etapa, en 3 de control, lo cual es  o(n/9) x 9  = **O(n)**\n",
        "\n"
      ]
    },
    {
      "metadata": {
        "id": "txbrmLmskReM",
        "colab_type": "text"
      },
      "cell_type": "markdown",
      "source": [
        "(*)Diseña un algoritmo que mejore la complejidad del algortimo por fuerza bruta. Argumenta porque crees que mejora el algoritmo por fuerza bruta"
      ]
    },
    {
      "metadata": {
        "id": "hLrVwt5QkZPD",
        "colab_type": "text"
      },
      "cell_type": "markdown",
      "source": [
        "Respuesta:\n",
        "## Mejora del algoritmo "
      ]
    },
    {
      "metadata": {
        "id": "m1eyM21Vkabg",
        "colab_type": "code",
        "colab": {}
      },
      "cell_type": "code",
      "source": [
        "# En la generación de los datos directamente se descarta los valores que sean outlier\n",
        "# con el objetivo de eliminar el o(n) de esta función\n",
        "def generarMuestraOptimizado(numero_datos):\n",
        "\n",
        "  # Se genera directamente el dataframe eliminando operaciones de creación de nuevas columnas\n",
        "  dataframe = pd.DataFrame({'id' : range(1, numero_datos + 1 ,1) ,\n",
        "                    'id_genero': np.random.choice([0, 1],size=numero_datos),\n",
        "                    'num_peso':  np.random.uniform(35, 40,size=numero_datos)  })\n",
        "    \n",
        "  # Se tiene los valores globales\n",
        "  media=37\n",
        "  desviacion=2.1\n",
        "  minimo = media - desviacion\n",
        "  maximo = media + desviacion\n",
        "  # Se plantea usando el enfoque de Z-score sin embargo realiza una complejidad semejante por ello se descarta\n",
        "  indice= (dataframe['num_peso'] >= (media - desviacion)) & (dataframe['num_peso'] <= (media + desviacion))\n",
        "  num_outliers = sum(indice)\n",
        "  print (\"Se han eliminado \"+str(len(dataframe)-num_outliers)+\" outliers, la nueva cantidad de animales es de: \"+str(num_outliers))\n",
        "  return dataframe[indice]\n",
        "\n",
        "# El costo de ejecución de esta función por indices es de O(5) en vez de O(n)\n",
        "def crearParticionesOptimizado(dataframe, numero_particionnes):\n",
        "  tam_particiones = math.floor(len(dataframe)/numero_particionnes)\n",
        "  tratamiento_1 = datos[:tam_particiones]\n",
        "  tratamiento_2 = datos[tam_particiones+1:tam_particiones*2]\n",
        "  tratamiento_3 = datos[(tam_particiones*2)+1:tam_particiones*3] \n",
        "  resultado = [tratamiento_1,tratamiento_2,tratamiento_3]\n",
        "  return resultado\n",
        "\n",
        "def generarGruposOptimizado(numero_datos):\n",
        "  # genero los datos y eliminación de outliers\n",
        "  datos = generarMuestraOptimizado(numero_datos)\n",
        "  #  MEJORA  pasar a 2xO(N) a O(15) # \n",
        "  #  Se asignan por indices los valores para evitar O(n) y pasar a O(5)\n",
        "  tratamientos = crearParticionesOptimizado(datos,particiones)\n",
        "  # Se generan los subgrupos por tratamiento a un costo de 3 x O(5) = O(15)\n",
        "  grupos_control = [crearParticionesOptimizado(tratamientos[0],3), \n",
        "                    crearParticionesOptimizado(tratamientos[1],3),\n",
        "                    crearParticionesOptimizado(tratamientos[2],3)]\n",
        "\n",
        "  return tratamientos, grupos_control"
      ],
      "execution_count": 0,
      "outputs": []
    },
    {
      "metadata": {
        "id": "eGDB4K6uk1iN",
        "colab_type": "text"
      },
      "cell_type": "markdown",
      "source": [
        "(*)Calcula la complejidad del algoritmo "
      ]
    },
    {
      "metadata": {
        "id": "NhpTh_BPk1ms",
        "colab_type": "text"
      },
      "cell_type": "markdown",
      "source": [
        "Respuesta:\n",
        "## Calculo de complejidad\n",
        "A diferencia del algoritmo original que tiene una complejidad de  **O(3n)** , este se disminuye a **O(2n) + O(20)** ,  debido a: \n",
        "\n",
        "1.    **Grupos de tratamiento:** Se realiza la  asignación por índices en vez de por bucles de iteración pasando de una complejidad de  **O(n)** a  **O(5)** .\n",
        "2.   **Subgrupos de control :** Se realiza la  asignación por índices en vez de por bucles de iteración pasando de una complejidad de  **O(n)** a  **O(15)** ."
      ]
    },
    {
      "metadata": {
        "id": "3M6QjTsSkmYe",
        "colab_type": "text"
      },
      "cell_type": "markdown",
      "source": [
        "Según el problema (y tenga sentido), diseña un juego de datos de entrada aleatorios"
      ]
    },
    {
      "metadata": {
        "id": "zy5ZROmjlGo1",
        "colab_type": "text"
      },
      "cell_type": "markdown",
      "source": [
        "Aplica el algoritmo al juego de datos generado"
      ]
    },
    {
      "metadata": {
        "id": "DqLY-Dn1vbCb",
        "colab_type": "text"
      },
      "cell_type": "markdown",
      "source": [
        " ## Generación y aplicación del algoritmo al juego de datos\n",
        " En la solución planteada se define una función que genere los datos y automaticamente los deje agrupados segun lo requerido por el probelma. Se describiría a continuación los 2 enfoques, el original y el optimizado."
      ]
    },
    {
      "metadata": {
        "id": "uIhwQF47vxQa",
        "colab_type": "text"
      },
      "cell_type": "markdown",
      "source": [
        "## Solución fuerza bruta"
      ]
    },
    {
      "metadata": {
        "id": "4YYu0alvIKR2",
        "colab_type": "code",
        "colab": {
          "base_uri": "https://localhost:8080/",
          "height": 748
        },
        "outputId": "57e62700-db2b-4edb-90ad-7a5e7cd84d4c"
      },
      "cell_type": "code",
      "source": [
        "# defino las muestras a generar\n",
        "numero_datos=250\n",
        "tratamientos, grupos_tratamiento=generarGrupos(numero_datos)\n",
        "print(\"Se verifica la calidad de los datos con la distribución de los mismos\")\n",
        "graficarGrupos(tratamientos)"
      ],
      "execution_count": 99,
      "outputs": [
        {
          "output_type": "stream",
          "text": [
            "Se han genero la siguiente cantidad de muestras vacunas : 250\n",
            "Se han eliminado 62 outliers, la nueva cantidad de animales es de:188\n",
            "Se crean los tres grupos de animales por tratamiento, con un tamaño de 62 animales\n",
            "Se crean los tres sub-grupos de control para cada tratamiento aplicado, con un tamaño de 20 animales\n",
            "Se verifica la calidad de los datos con la distribución de los mismos\n",
            " Distribución de los animales por tratamiento\n",
            " Genero 0 = Hembras,  1 = Machos\n"
          ],
          "name": "stdout"
        },
        {
          "output_type": "display_data",
          "data": {
            "image/png": "[encoded data removed]",
            "text/plain": [
              "<Figure size 432x216 with 2 Axes>"
            ]
          },
          "metadata": {
            "tags": []
          }
        },
        {
          "output_type": "display_data",
          "data": {
            "image/png": "[encoded data removed]",
            "text/plain": [
              "<Figure size 432x216 with 2 Axes>"
            ]
          },
          "metadata": {
            "tags": []
          }
        },
        {
          "output_type": "display_data",
          "data": {
            "image/png": "[encoded data removed]",
            "text/plain": [
              "<Figure size 432x216 with 2 Axes>"
            ]
          },
          "metadata": {
            "tags": []
          }
        }
      ]
    },
    {
      "metadata": {
        "id": "iEthK2RYv0FD",
        "colab_type": "text"
      },
      "cell_type": "markdown",
      "source": [
        "## Solución mejorada"
      ]
    },
    {
      "metadata": {
        "id": "sJ-N2etjkyWc",
        "colab_type": "code",
        "colab": {
          "base_uri": "https://localhost:8080/",
          "height": 697
        },
        "outputId": "e95aa87c-eb8b-43d4-dfeb-86581b6ad1dd"
      },
      "cell_type": "code",
      "source": [
        "# Tamaño del conjunto de datos\n",
        "numero_datos=250\n",
        "tratamientos, grupos_tratamiento=generarGruposOptimizado(numero_datos)\n",
        "print(\"Se verifica la calidad de los datos con la distribución de los mismos\")\n",
        "graficarGrupos(tratamientos)"
      ],
      "execution_count": 100,
      "outputs": [
        {
          "output_type": "stream",
          "text": [
            "Se han eliminado 42 outliers, la nueva cantidad de animales es de: 208\n",
            "Se verifica la calidad de los datos con la distribución de los mismos\n",
            " Distribución de los animales por tratamiento\n",
            " Genero 0 = Hembras,  1 = Machos\n"
          ],
          "name": "stdout"
        },
        {
          "output_type": "display_data",
          "data": {
            "image/png": "[encoded data removed]",
            "text/plain": [
              "<Figure size 432x216 with 2 Axes>"
            ]
          },
          "metadata": {
            "tags": []
          }
        },
        {
          "output_type": "display_data",
          "data": {
            "image/png": "[encoded data removed]",
            "text/plain": [
              "<Figure size 432x216 with 2 Axes>"
            ]
          },
          "metadata": {
            "tags": []
          }
        },
        {
          "output_type": "display_data",
          "data": {
            "image/png": "[encoded data removed]",
            "text/plain": [
              "<Figure size 432x216 with 2 Axes>"
            ]
          },
          "metadata": {
            "tags": []
          }
        }
      ]
    },
    {
      "metadata": {
        "colab_type": "text",
        "id": "eTFWUJQrtGcv"
      },
      "cell_type": "markdown",
      "source": [
        "Enumera las referencias que has utilizado(si ha sido necesario) para llevar a cabo el trabajo\n",
        "\n",
        "\n",
        "\n"
      ]
    },
    {
      "metadata": {
        "id": "YKQ_mRBttWsP",
        "colab_type": "text"
      },
      "cell_type": "markdown",
      "source": [
        "Respuesta:\n",
        "## Referencias utilizadas\n",
        "\n",
        "1.   Estructura de datos : https://pandas.pydata.org/pandas-docs/stable/reference/api/pandas.DataFrame.html\n",
        "2.   Selección aleatoria : https://www.oreilly.com/library/view/python-cookbook/0596001673/ch02s09.html\n",
        "3.   Problemas de optimización:https://relopezbriega.github.io/blog/2017/01/18/problemas-de-optimizacion-con-python/\n",
        "4.   Ordenamiento : https://pandas.pydata.org/pandas-docs/stable/reference/api/pandas.DataFrame.sort_values.html\n",
        "5.   Gestión de subconjuntos de datos : https://medium.com/dunder-data/selecting-subsets-of-data-in-pandas-39e811c81a0c\n",
        "6.   Constraint y objetivo : https://nptel.ac.in/courses/105108127/pdf/Module_1/M1L2slides.pdf\n",
        "7.   Graficas: https://seaborn.pydata.org/tutorial/axis_grids.html"
      ]
    },
    {
      "metadata": {
        "id": "kAkDPUyRtYyH",
        "colab_type": "text"
      },
      "cell_type": "markdown",
      "source": [
        "Describe brevemente las lineas de como crees que es posible avanzar en el estudio del problema. Ten en cuenta incluso posibles variaciones del problema y/o variaciones al alza del tamaño.\n",
        "\n"
      ]
    },
    {
      "metadata": {
        "id": "IE0uZmo-tZu-",
        "colab_type": "text"
      },
      "cell_type": "markdown",
      "source": [
        "Respuesta:\n",
        "## Análisis del problema\n",
        "\n",
        "El problema puede evolucionar a :\n",
        "\n",
        "1.  Valores que no sean pre-definidos como la restricciones de 3 tratamientos y 3 conjuntos, por tal motivo, las funciones definidas estan orientadas actualmente a responder a N valores definidos. \n",
        "2.   analizar el resultado de estos tratamientos, con el fin de identificar cual fue el más efectivo o no , con base en los grupos de control definidos. \n",
        "3.  Incrementar la cantidad de caracteristicas de los animales con el fin de aplicar un analisis más profundo de los factores de efectividad o no de los tratamientos. Entre los factores puede ser edad del animal, tipo de raza,  si ha tenido crias o no (para las Hembras), temperatura de la toma de la muestra y/o aplicación del tratamiento, estación en que se aplica o toma la muestra, entre otras. \n",
        "4. Incluir indicadores de efectivdad de los tratamientos \n",
        "\n",
        "\n"
      ]
    }
  ]
}